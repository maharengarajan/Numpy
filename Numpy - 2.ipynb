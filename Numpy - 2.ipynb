{
 "cells": [
  {
   "cell_type": "code",
   "execution_count": 1,
   "id": "04a6ac9e",
   "metadata": {},
   "outputs": [],
   "source": [
    "import numpy as np"
   ]
  },
  {
   "cell_type": "code",
   "execution_count": 2,
   "id": "3d461c87",
   "metadata": {},
   "outputs": [
    {
     "data": {
      "text/plain": [
       "array([1, 2, 3, 4])"
      ]
     },
     "execution_count": 2,
     "metadata": {},
     "output_type": "execute_result"
    }
   ],
   "source": [
    "l = [1,2,3,4]\n",
    "np.array(l)"
   ]
  },
  {
   "cell_type": "code",
   "execution_count": 3,
   "id": "da8197a4",
   "metadata": {},
   "outputs": [
    {
     "data": {
      "text/plain": [
       "array([0., 0., 0., 0., 0.])"
      ]
     },
     "execution_count": 3,
     "metadata": {},
     "output_type": "execute_result"
    }
   ],
   "source": [
    "np.zeros(5)"
   ]
  },
  {
   "cell_type": "code",
   "execution_count": 5,
   "id": "7e65ff0a",
   "metadata": {},
   "outputs": [
    {
     "data": {
      "text/plain": [
       "array([[0, 0, 0, 0],\n",
       "       [0, 0, 0, 0],\n",
       "       [0, 0, 0, 0]])"
      ]
     },
     "execution_count": 5,
     "metadata": {},
     "output_type": "execute_result"
    }
   ],
   "source": [
    "np.zeros([3,4], dtype=int)"
   ]
  },
  {
   "cell_type": "code",
   "execution_count": 6,
   "id": "2e6552ff",
   "metadata": {},
   "outputs": [
    {
     "data": {
      "text/plain": [
       "array([[[0, 0, 0, 0],\n",
       "        [0, 0, 0, 0],\n",
       "        [0, 0, 0, 0]],\n",
       "\n",
       "       [[0, 0, 0, 0],\n",
       "        [0, 0, 0, 0],\n",
       "        [0, 0, 0, 0]],\n",
       "\n",
       "       [[0, 0, 0, 0],\n",
       "        [0, 0, 0, 0],\n",
       "        [0, 0, 0, 0]]])"
      ]
     },
     "execution_count": 6,
     "metadata": {},
     "output_type": "execute_result"
    }
   ],
   "source": [
    "np.zeros([3,3,4], dtype=int)"
   ]
  },
  {
   "cell_type": "code",
   "execution_count": 7,
   "id": "b2e137f4",
   "metadata": {},
   "outputs": [
    {
     "data": {
      "text/plain": [
       "array([1., 1., 1., 1., 1.])"
      ]
     },
     "execution_count": 7,
     "metadata": {},
     "output_type": "execute_result"
    }
   ],
   "source": [
    "np.ones(5)"
   ]
  },
  {
   "cell_type": "code",
   "execution_count": 8,
   "id": "638f53ec",
   "metadata": {},
   "outputs": [
    {
     "data": {
      "text/plain": [
       "array([[1, 1, 1, 1],\n",
       "       [1, 1, 1, 1],\n",
       "       [1, 1, 1, 1]])"
      ]
     },
     "execution_count": 8,
     "metadata": {},
     "output_type": "execute_result"
    }
   ],
   "source": [
    "np.ones([3,4], dtype=int)"
   ]
  },
  {
   "cell_type": "code",
   "execution_count": 9,
   "id": "538da11f",
   "metadata": {},
   "outputs": [
    {
     "data": {
      "text/plain": [
       "array([[3, 3, 3, 3],\n",
       "       [3, 3, 3, 3],\n",
       "       [3, 3, 3, 3]])"
      ]
     },
     "execution_count": 9,
     "metadata": {},
     "output_type": "execute_result"
    }
   ],
   "source": [
    "3+np.zeros([3,4], dtype=int)"
   ]
  },
  {
   "cell_type": "code",
   "execution_count": 11,
   "id": "742bceb0",
   "metadata": {},
   "outputs": [
    {
     "data": {
      "text/plain": [
       "array([[6.23042070e-307, 4.67296746e-307, 1.69121096e-306,\n",
       "        1.33511290e-306, 7.56602523e-307, 6.23058028e-307],\n",
       "       [8.45593934e-307, 7.56593017e-307, 1.11261027e-306,\n",
       "        1.11261502e-306, 1.42410839e-306, 7.56597770e-307],\n",
       "       [6.23059726e-307, 1.42419530e-306, 7.56599128e-307,\n",
       "        1.42417629e-306, 8.45593934e-307, 6.89805151e-307],\n",
       "       [1.11260144e-306, 6.89812281e-307, 1.42418172e-306,\n",
       "        1.37961641e-306, 9.45699679e-308, 2.22522596e-306]])"
      ]
     },
     "execution_count": 11,
     "metadata": {},
     "output_type": "execute_result"
    }
   ],
   "source": [
    "np.empty([4,6])  #value of the data is very very less"
   ]
  },
  {
   "cell_type": "code",
   "execution_count": 13,
   "id": "d5bdf114",
   "metadata": {},
   "outputs": [
    {
     "data": {
      "text/plain": [
       "array([3.        , 3.10204082, 3.20408163, 3.30612245, 3.40816327,\n",
       "       3.51020408, 3.6122449 , 3.71428571, 3.81632653, 3.91836735,\n",
       "       4.02040816, 4.12244898, 4.2244898 , 4.32653061, 4.42857143,\n",
       "       4.53061224, 4.63265306, 4.73469388, 4.83673469, 4.93877551,\n",
       "       5.04081633, 5.14285714, 5.24489796, 5.34693878, 5.44897959,\n",
       "       5.55102041, 5.65306122, 5.75510204, 5.85714286, 5.95918367,\n",
       "       6.06122449, 6.16326531, 6.26530612, 6.36734694, 6.46938776,\n",
       "       6.57142857, 6.67346939, 6.7755102 , 6.87755102, 6.97959184,\n",
       "       7.08163265, 7.18367347, 7.28571429, 7.3877551 , 7.48979592,\n",
       "       7.59183673, 7.69387755, 7.79591837, 7.89795918, 8.        ])"
      ]
     },
     "execution_count": 13,
     "metadata": {},
     "output_type": "execute_result"
    }
   ],
   "source": [
    "#create a data inbetween any two numbers \n",
    "np.linspace(3,8)"
   ]
  },
  {
   "cell_type": "code",
   "execution_count": 15,
   "id": "4b7f392c",
   "metadata": {},
   "outputs": [
    {
     "data": {
      "text/plain": [
       "array([3.        , 3.05050505, 3.1010101 , 3.15151515, 3.2020202 ,\n",
       "       3.25252525, 3.3030303 , 3.35353535, 3.4040404 , 3.45454545,\n",
       "       3.50505051, 3.55555556, 3.60606061, 3.65656566, 3.70707071,\n",
       "       3.75757576, 3.80808081, 3.85858586, 3.90909091, 3.95959596,\n",
       "       4.01010101, 4.06060606, 4.11111111, 4.16161616, 4.21212121,\n",
       "       4.26262626, 4.31313131, 4.36363636, 4.41414141, 4.46464646,\n",
       "       4.51515152, 4.56565657, 4.61616162, 4.66666667, 4.71717172,\n",
       "       4.76767677, 4.81818182, 4.86868687, 4.91919192, 4.96969697,\n",
       "       5.02020202, 5.07070707, 5.12121212, 5.17171717, 5.22222222,\n",
       "       5.27272727, 5.32323232, 5.37373737, 5.42424242, 5.47474747,\n",
       "       5.52525253, 5.57575758, 5.62626263, 5.67676768, 5.72727273,\n",
       "       5.77777778, 5.82828283, 5.87878788, 5.92929293, 5.97979798,\n",
       "       6.03030303, 6.08080808, 6.13131313, 6.18181818, 6.23232323,\n",
       "       6.28282828, 6.33333333, 6.38383838, 6.43434343, 6.48484848,\n",
       "       6.53535354, 6.58585859, 6.63636364, 6.68686869, 6.73737374,\n",
       "       6.78787879, 6.83838384, 6.88888889, 6.93939394, 6.98989899,\n",
       "       7.04040404, 7.09090909, 7.14141414, 7.19191919, 7.24242424,\n",
       "       7.29292929, 7.34343434, 7.39393939, 7.44444444, 7.49494949,\n",
       "       7.54545455, 7.5959596 , 7.64646465, 7.6969697 , 7.74747475,\n",
       "       7.7979798 , 7.84848485, 7.8989899 , 7.94949495, 8.        ])"
      ]
     },
     "execution_count": 15,
     "metadata": {},
     "output_type": "execute_result"
    }
   ],
   "source": [
    "np.linspace(3,8,100)"
   ]
  },
  {
   "cell_type": "code",
   "execution_count": 19,
   "id": "7147bebc",
   "metadata": {},
   "outputs": [
    {
     "data": {
      "text/plain": [
       "array([[3.        , 3.55555556, 4.11111111, 4.66666667, 5.22222222],\n",
       "       [5.77777778, 6.33333333, 6.88888889, 7.44444444, 8.        ]])"
      ]
     },
     "execution_count": 19,
     "metadata": {},
     "output_type": "execute_result"
    }
   ],
   "source": [
    "np.linspace(3,8,10).reshape(2,5)"
   ]
  },
  {
   "cell_type": "code",
   "execution_count": 21,
   "id": "77d6c81d",
   "metadata": {},
   "outputs": [
    {
     "data": {
      "text/plain": [
       "array([1.00000000e+03, 3.59381366e+03, 1.29154967e+04, 4.64158883e+04,\n",
       "       1.66810054e+05, 5.99484250e+05, 2.15443469e+06, 7.74263683e+06,\n",
       "       2.78255940e+07, 1.00000000e+08])"
      ]
     },
     "execution_count": 21,
     "metadata": {},
     "output_type": "execute_result"
    }
   ],
   "source": [
    "np.logspace(3,8,10)"
   ]
  },
  {
   "cell_type": "code",
   "execution_count": 24,
   "id": "1a896e8d",
   "metadata": {},
   "outputs": [
    {
     "data": {
      "text/plain": [
       "array([[ 0,  1,  2,  3],\n",
       "       [ 4,  5,  6,  7],\n",
       "       [ 8,  9, 10, 11],\n",
       "       [12, 13, 14, 15]])"
      ]
     },
     "execution_count": 24,
     "metadata": {},
     "output_type": "execute_result"
    }
   ],
   "source": [
    "a = np.arange(16).reshape(4,4)\n",
    "a"
   ]
  },
  {
   "cell_type": "code",
   "execution_count": 26,
   "id": "e499613d",
   "metadata": {},
   "outputs": [
    {
     "data": {
      "text/plain": [
       "15"
      ]
     },
     "execution_count": 26,
     "metadata": {},
     "output_type": "execute_result"
    }
   ],
   "source": [
    "a.max()"
   ]
  },
  {
   "cell_type": "code",
   "execution_count": 27,
   "id": "fe68da8b",
   "metadata": {},
   "outputs": [
    {
     "data": {
      "text/plain": [
       "array([12, 13, 14, 15])"
      ]
     },
     "execution_count": 27,
     "metadata": {},
     "output_type": "execute_result"
    }
   ],
   "source": [
    "a.max(axis = 0)"
   ]
  },
  {
   "cell_type": "code",
   "execution_count": 28,
   "id": "e456b06e",
   "metadata": {},
   "outputs": [
    {
     "data": {
      "text/plain": [
       "array([ 3,  7, 11, 15])"
      ]
     },
     "execution_count": 28,
     "metadata": {},
     "output_type": "execute_result"
    }
   ],
   "source": [
    "a.max(axis = 1)"
   ]
  },
  {
   "cell_type": "code",
   "execution_count": 30,
   "id": "b13018a7",
   "metadata": {},
   "outputs": [
    {
     "data": {
      "text/plain": [
       "array([[  0,   1,   4,   9],\n",
       "       [ 16,  25,  36,  49],\n",
       "       [ 64,  81, 100, 121],\n",
       "       [144, 169, 196, 225]])"
      ]
     },
     "execution_count": 30,
     "metadata": {},
     "output_type": "execute_result"
    }
   ],
   "source": [
    "pow(a,2)"
   ]
  },
  {
   "cell_type": "code",
   "execution_count": 31,
   "id": "4b66b038",
   "metadata": {},
   "outputs": [
    {
     "data": {
      "text/plain": [
       "array([[ 0,  1,  2,  3],\n",
       "       [ 4,  5,  6,  7],\n",
       "       [ 8,  9, 10, 11],\n",
       "       [12, 13, 14, 15]])"
      ]
     },
     "execution_count": 31,
     "metadata": {},
     "output_type": "execute_result"
    }
   ],
   "source": [
    "a"
   ]
  },
  {
   "cell_type": "code",
   "execution_count": 36,
   "id": "29fb4717",
   "metadata": {},
   "outputs": [
    {
     "data": {
      "text/plain": [
       "array([[0.        , 1.        , 1.41421356, 1.73205081],\n",
       "       [2.        , 2.23606798, 2.44948974, 2.64575131],\n",
       "       [2.82842712, 3.        , 3.16227766, 3.31662479],\n",
       "       [3.46410162, 3.60555128, 3.74165739, 3.87298335]])"
      ]
     },
     "execution_count": 36,
     "metadata": {},
     "output_type": "execute_result"
    }
   ],
   "source": [
    "np.sqrt(a)"
   ]
  },
  {
   "cell_type": "code",
   "execution_count": 37,
   "id": "49fd3b60",
   "metadata": {},
   "outputs": [
    {
     "data": {
      "text/plain": [
       "array([[1.00000000e+00, 2.71828183e+00, 7.38905610e+00, 2.00855369e+01],\n",
       "       [5.45981500e+01, 1.48413159e+02, 4.03428793e+02, 1.09663316e+03],\n",
       "       [2.98095799e+03, 8.10308393e+03, 2.20264658e+04, 5.98741417e+04],\n",
       "       [1.62754791e+05, 4.42413392e+05, 1.20260428e+06, 3.26901737e+06]])"
      ]
     },
     "execution_count": 37,
     "metadata": {},
     "output_type": "execute_result"
    }
   ],
   "source": [
    "np.exp(a)"
   ]
  },
  {
   "cell_type": "code",
   "execution_count": 38,
   "id": "a1b2055b",
   "metadata": {},
   "outputs": [
    {
     "name": "stderr",
     "output_type": "stream",
     "text": [
      "C:\\Users\\Rengarajan\\AppData\\Local\\Temp\\ipykernel_24292\\547625357.py:1: RuntimeWarning: divide by zero encountered in log10\n",
      "  np.log10(a)\n"
     ]
    },
    {
     "data": {
      "text/plain": [
       "array([[      -inf, 0.        , 0.30103   , 0.47712125],\n",
       "       [0.60205999, 0.69897   , 0.77815125, 0.84509804],\n",
       "       [0.90308999, 0.95424251, 1.        , 1.04139269],\n",
       "       [1.07918125, 1.11394335, 1.14612804, 1.17609126]])"
      ]
     },
     "execution_count": 38,
     "metadata": {},
     "output_type": "execute_result"
    }
   ],
   "source": [
    "np.log10(a)"
   ]
  },
  {
   "cell_type": "markdown",
   "id": "68e78f05",
   "metadata": {},
   "source": [
    "# Deep copy and shallow copy"
   ]
  },
  {
   "cell_type": "code",
   "execution_count": 39,
   "id": "8bf9c061",
   "metadata": {},
   "outputs": [],
   "source": [
    "x = np.array([1,2,3,4])"
   ]
  },
  {
   "cell_type": "code",
   "execution_count": 41,
   "id": "74b31992",
   "metadata": {},
   "outputs": [],
   "source": [
    "y = x"
   ]
  },
  {
   "cell_type": "code",
   "execution_count": 42,
   "id": "03325cd1",
   "metadata": {},
   "outputs": [
    {
     "data": {
      "text/plain": [
       "array([1, 2, 3, 4])"
      ]
     },
     "execution_count": 42,
     "metadata": {},
     "output_type": "execute_result"
    }
   ],
   "source": [
    "y"
   ]
  },
  {
   "cell_type": "code",
   "execution_count": 43,
   "id": "2edc1591",
   "metadata": {},
   "outputs": [],
   "source": [
    "z = np.copy(x)"
   ]
  },
  {
   "cell_type": "code",
   "execution_count": 44,
   "id": "f16e70a4",
   "metadata": {},
   "outputs": [
    {
     "data": {
      "text/plain": [
       "array([1, 2, 3, 4])"
      ]
     },
     "execution_count": 44,
     "metadata": {},
     "output_type": "execute_result"
    }
   ],
   "source": [
    "z"
   ]
  },
  {
   "cell_type": "code",
   "execution_count": 46,
   "id": "c7643940",
   "metadata": {},
   "outputs": [],
   "source": [
    "x[0] = 100"
   ]
  },
  {
   "cell_type": "code",
   "execution_count": 49,
   "id": "0d8e1ecb",
   "metadata": {},
   "outputs": [
    {
     "data": {
      "text/plain": [
       "array([100,   2,   3,   4])"
      ]
     },
     "execution_count": 49,
     "metadata": {},
     "output_type": "execute_result"
    }
   ],
   "source": [
    "y"
   ]
  },
  {
   "cell_type": "code",
   "execution_count": 50,
   "id": "3c2707a6",
   "metadata": {},
   "outputs": [
    {
     "data": {
      "text/plain": [
       "array([1, 2, 3, 4])"
      ]
     },
     "execution_count": 50,
     "metadata": {},
     "output_type": "execute_result"
    }
   ],
   "source": [
    "z"
   ]
  },
  {
   "cell_type": "markdown",
   "id": "b8bd0856",
   "metadata": {},
   "source": [
    "# ID"
   ]
  },
  {
   "cell_type": "code",
   "execution_count": 51,
   "id": "18bb0454",
   "metadata": {},
   "outputs": [
    {
     "data": {
      "text/plain": [
       "2084013846768"
      ]
     },
     "execution_count": 51,
     "metadata": {},
     "output_type": "execute_result"
    }
   ],
   "source": [
    "id(x)"
   ]
  },
  {
   "cell_type": "code",
   "execution_count": 52,
   "id": "3c06bdfb",
   "metadata": {},
   "outputs": [
    {
     "data": {
      "text/plain": [
       "2084013846768"
      ]
     },
     "execution_count": 52,
     "metadata": {},
     "output_type": "execute_result"
    }
   ],
   "source": [
    "id(y)"
   ]
  },
  {
   "cell_type": "code",
   "execution_count": 53,
   "id": "d1f9cd6f",
   "metadata": {},
   "outputs": [
    {
     "data": {
      "text/plain": [
       "2083999860464"
      ]
     },
     "execution_count": 53,
     "metadata": {},
     "output_type": "execute_result"
    }
   ],
   "source": [
    "id(z)"
   ]
  },
  {
   "cell_type": "code",
   "execution_count": 54,
   "id": "48c56275",
   "metadata": {},
   "outputs": [],
   "source": [
    "ra = np.array([123,456])"
   ]
  },
  {
   "cell_type": "code",
   "execution_count": 55,
   "id": "31fb2e2b",
   "metadata": {},
   "outputs": [],
   "source": [
    "ya = ra"
   ]
  },
  {
   "cell_type": "code",
   "execution_count": 56,
   "id": "36e2bf37",
   "metadata": {},
   "outputs": [
    {
     "data": {
      "text/plain": [
       "2083999859888"
      ]
     },
     "execution_count": 56,
     "metadata": {},
     "output_type": "execute_result"
    }
   ],
   "source": [
    "id(ra)"
   ]
  },
  {
   "cell_type": "code",
   "execution_count": 57,
   "id": "d012937e",
   "metadata": {},
   "outputs": [
    {
     "data": {
      "text/plain": [
       "2083999859888"
      ]
     },
     "execution_count": 57,
     "metadata": {},
     "output_type": "execute_result"
    }
   ],
   "source": [
    "id(ya)"
   ]
  },
  {
   "cell_type": "code",
   "execution_count": 59,
   "id": "9531954a",
   "metadata": {},
   "outputs": [
    {
     "data": {
      "text/plain": [
       "2084016384272"
      ]
     },
     "execution_count": 59,
     "metadata": {},
     "output_type": "execute_result"
    }
   ],
   "source": [
    "id(ra[0])"
   ]
  },
  {
   "cell_type": "code",
   "execution_count": 60,
   "id": "034d1f21",
   "metadata": {},
   "outputs": [
    {
     "data": {
      "text/plain": [
       "2084016387792"
      ]
     },
     "execution_count": 60,
     "metadata": {},
     "output_type": "execute_result"
    }
   ],
   "source": [
    "id(ya[0])"
   ]
  },
  {
   "cell_type": "code",
   "execution_count": 61,
   "id": "60944f3b",
   "metadata": {},
   "outputs": [
    {
     "data": {
      "text/plain": [
       "2084016388944"
      ]
     },
     "execution_count": 61,
     "metadata": {},
     "output_type": "execute_result"
    }
   ],
   "source": [
    "id(ra[1])"
   ]
  },
  {
   "cell_type": "code",
   "execution_count": 62,
   "id": "7ce2c40f",
   "metadata": {},
   "outputs": [
    {
     "data": {
      "text/plain": [
       "2084016384272"
      ]
     },
     "execution_count": 62,
     "metadata": {},
     "output_type": "execute_result"
    }
   ],
   "source": [
    "id(ya[1])"
   ]
  },
  {
   "cell_type": "code",
   "execution_count": 63,
   "id": "59e4d5ca",
   "metadata": {},
   "outputs": [
    {
     "data": {
      "text/plain": [
       "True"
      ]
     },
     "execution_count": 63,
     "metadata": {},
     "output_type": "execute_result"
    }
   ],
   "source": [
    "id(ya[0]) == id(ra[1])"
   ]
  },
  {
   "cell_type": "code",
   "execution_count": null,
   "id": "a87ffe3b",
   "metadata": {},
   "outputs": [],
   "source": []
  }
 ],
 "metadata": {
  "kernelspec": {
   "display_name": "Python 3 (ipykernel)",
   "language": "python",
   "name": "python3"
  },
  "language_info": {
   "codemirror_mode": {
    "name": "ipython",
    "version": 3
   },
   "file_extension": ".py",
   "mimetype": "text/x-python",
   "name": "python",
   "nbconvert_exporter": "python",
   "pygments_lexer": "ipython3",
   "version": "3.10.9"
  }
 },
 "nbformat": 4,
 "nbformat_minor": 5
}
