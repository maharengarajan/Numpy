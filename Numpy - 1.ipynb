{
 "cells": [
  {
   "cell_type": "code",
   "execution_count": 1,
   "id": "f4ab623e",
   "metadata": {},
   "outputs": [],
   "source": [
    "import numpy as np"
   ]
  },
  {
   "cell_type": "code",
   "execution_count": 2,
   "id": "8bdf4450",
   "metadata": {},
   "outputs": [
    {
     "data": {
      "text/plain": [
       "list"
      ]
     },
     "execution_count": 2,
     "metadata": {},
     "output_type": "execute_result"
    }
   ],
   "source": [
    "l = ['raja',1,2,3]\n",
    "type(l)"
   ]
  },
  {
   "cell_type": "code",
   "execution_count": 3,
   "id": "cc8830af",
   "metadata": {},
   "outputs": [
    {
     "data": {
      "text/plain": [
       "array(['raja', '1', '2', '3'], dtype='<U11')"
      ]
     },
     "execution_count": 3,
     "metadata": {},
     "output_type": "execute_result"
    }
   ],
   "source": [
    "np.array(l)"
   ]
  },
  {
   "cell_type": "code",
   "execution_count": 4,
   "id": "ef308851",
   "metadata": {},
   "outputs": [
    {
     "data": {
      "text/plain": [
       "numpy.ndarray"
      ]
     },
     "execution_count": 4,
     "metadata": {},
     "output_type": "execute_result"
    }
   ],
   "source": [
    "type(np.array(l)) #ndarray - n dimensional array"
   ]
  },
  {
   "cell_type": "code",
   "execution_count": 5,
   "id": "5bc277f1",
   "metadata": {},
   "outputs": [
    {
     "data": {
      "text/plain": [
       "array([1. , 2. , 3. , 4.5])"
      ]
     },
     "execution_count": 5,
     "metadata": {},
     "output_type": "execute_result"
    }
   ],
   "source": [
    "np.array([1,2,3,4.5])"
   ]
  },
  {
   "cell_type": "code",
   "execution_count": 6,
   "id": "fdf1131d",
   "metadata": {},
   "outputs": [
    {
     "data": {
      "text/plain": [
       "2.0"
      ]
     },
     "execution_count": 6,
     "metadata": {},
     "output_type": "execute_result"
    }
   ],
   "source": [
    "b = np.array([1,2,3,4.5])\n",
    "b[1]"
   ]
  },
  {
   "cell_type": "code",
   "execution_count": 7,
   "id": "2ad19e5b",
   "metadata": {},
   "outputs": [
    {
     "data": {
      "text/plain": [
       "array([[1, 2],\n",
       "       [3, 4]])"
      ]
     },
     "execution_count": 7,
     "metadata": {},
     "output_type": "execute_result"
    }
   ],
   "source": [
    "np.array([[1,2],[3,4]])"
   ]
  },
  {
   "cell_type": "code",
   "execution_count": 8,
   "id": "f67e09da",
   "metadata": {},
   "outputs": [
    {
     "data": {
      "text/plain": [
       "4"
      ]
     },
     "execution_count": 8,
     "metadata": {},
     "output_type": "execute_result"
    }
   ],
   "source": [
    "a = np.array([[1,2],[3,4]])\n",
    "a[1][1]"
   ]
  },
  {
   "cell_type": "code",
   "execution_count": 9,
   "id": "eb4f5259",
   "metadata": {},
   "outputs": [
    {
     "data": {
      "text/plain": [
       "array([[[[1, 2, 3, 4]]]])"
      ]
     },
     "execution_count": 9,
     "metadata": {},
     "output_type": "execute_result"
    }
   ],
   "source": [
    "c = np.array([1,2,3,4],ndmin=4)\n",
    "c"
   ]
  },
  {
   "cell_type": "code",
   "execution_count": 10,
   "id": "0f9bb937",
   "metadata": {},
   "outputs": [
    {
     "data": {
      "text/plain": [
       "2"
      ]
     },
     "execution_count": 10,
     "metadata": {},
     "output_type": "execute_result"
    }
   ],
   "source": [
    "c[0][0][0][1]"
   ]
  },
  {
   "cell_type": "code",
   "execution_count": 11,
   "id": "6df2f2e0",
   "metadata": {},
   "outputs": [
    {
     "data": {
      "text/plain": [
       "array([1, 2, 3, 4])"
      ]
     },
     "execution_count": 11,
     "metadata": {},
     "output_type": "execute_result"
    }
   ],
   "source": [
    "np.array([1,2,3,4])"
   ]
  },
  {
   "cell_type": "code",
   "execution_count": 12,
   "id": "818d5cc8",
   "metadata": {},
   "outputs": [
    {
     "data": {
      "text/plain": [
       "array([1, 2, 3, 4])"
      ]
     },
     "execution_count": 12,
     "metadata": {},
     "output_type": "execute_result"
    }
   ],
   "source": [
    "np.asarray([1,2,3,4])"
   ]
  },
  {
   "cell_type": "code",
   "execution_count": 13,
   "id": "7fdc9839",
   "metadata": {},
   "outputs": [
    {
     "data": {
      "text/plain": [
       "array([1, 2, 3, 4])"
      ]
     },
     "execution_count": 13,
     "metadata": {},
     "output_type": "execute_result"
    }
   ],
   "source": [
    "np.asanyarray([1,2,3,4])"
   ]
  },
  {
   "cell_type": "code",
   "execution_count": 14,
   "id": "076d2140",
   "metadata": {},
   "outputs": [
    {
     "data": {
      "text/plain": [
       "matrix([[1, 2, 3, 4, 5]])"
      ]
     },
     "execution_count": 14,
     "metadata": {},
     "output_type": "execute_result"
    }
   ],
   "source": [
    "np.mat([1,2,3,4,5])  #matrix are just 2D elements"
   ]
  },
  {
   "cell_type": "code",
   "execution_count": 15,
   "id": "d280824d",
   "metadata": {},
   "outputs": [
    {
     "data": {
      "text/plain": [
       "matrix([[1, 2, 3, 4, 5]])"
      ]
     },
     "execution_count": 15,
     "metadata": {},
     "output_type": "execute_result"
    }
   ],
   "source": [
    "np.asanyarray(np.mat([1,2,3,4,5]))"
   ]
  },
  {
   "cell_type": "raw",
   "id": "3382c278",
   "metadata": {},
   "source": [
    "Matrix is just an array, it is a subclass of array"
   ]
  },
  {
   "cell_type": "code",
   "execution_count": 16,
   "id": "5289ec95",
   "metadata": {},
   "outputs": [
    {
     "data": {
      "text/plain": [
       "array([[ True, False, False],\n",
       "       [False,  True, False],\n",
       "       [False, False,  True]])"
      ]
     },
     "execution_count": 16,
     "metadata": {},
     "output_type": "execute_result"
    }
   ],
   "source": [
    "#this fun is for generating array in the required format\n",
    "np.fromfunction(lambda i,j:i==j ,(3,3))"
   ]
  },
  {
   "cell_type": "code",
   "execution_count": 18,
   "id": "fc0c5d4c",
   "metadata": {},
   "outputs": [
    {
     "data": {
      "text/plain": [
       "array([[0., 0., 0., 0.],\n",
       "       [0., 1., 2., 3.],\n",
       "       [0., 2., 4., 6.],\n",
       "       [0., 3., 6., 9.]])"
      ]
     },
     "execution_count": 18,
     "metadata": {},
     "output_type": "execute_result"
    }
   ],
   "source": [
    "np.fromfunction(lambda i,j:i*j ,(4,4))"
   ]
  },
  {
   "cell_type": "code",
   "execution_count": 19,
   "id": "68ea1fb0",
   "metadata": {},
   "outputs": [
    {
     "data": {
      "text/plain": [
       "array([[0, 0, 0, 0],\n",
       "       [0, 1, 2, 3],\n",
       "       [0, 2, 4, 6],\n",
       "       [0, 3, 6, 9]])"
      ]
     },
     "execution_count": 19,
     "metadata": {},
     "output_type": "execute_result"
    }
   ],
   "source": [
    "#numpy always return float, if we want int..\n",
    "np.fromfunction(lambda i,j:i*j ,(4,4),dtype=int)"
   ]
  },
  {
   "cell_type": "code",
   "execution_count": 20,
   "id": "eec2320d",
   "metadata": {},
   "outputs": [
    {
     "data": {
      "text/plain": [
       "matrix([[0, 0, 0, 0],\n",
       "        [0, 1, 2, 3],\n",
       "        [0, 2, 4, 6],\n",
       "        [0, 3, 6, 9]])"
      ]
     },
     "execution_count": 20,
     "metadata": {},
     "output_type": "execute_result"
    }
   ],
   "source": [
    "#numpy always return arrays, if we want into matrix we can change it\n",
    "np.mat(np.fromfunction(lambda i,j:i*j ,(4,4),dtype=int))"
   ]
  },
  {
   "cell_type": "code",
   "execution_count": 22,
   "id": "ff0b0302",
   "metadata": {},
   "outputs": [
    {
     "data": {
      "text/plain": [
       "array([[[0, 0],\n",
       "        [0, 0]],\n",
       "\n",
       "       [[0, 0],\n",
       "        [0, 1]],\n",
       "\n",
       "       [[0, 0],\n",
       "        [0, 2]]])"
      ]
     },
     "execution_count": 22,
     "metadata": {},
     "output_type": "execute_result"
    }
   ],
   "source": [
    "np.fromfunction(lambda i,j,z:i*j*z ,(3,2,2),dtype=int)  #3array in the form of 2*2 array (3 dimensions)"
   ]
  },
  {
   "cell_type": "code",
   "execution_count": 23,
   "id": "ec67aa4b",
   "metadata": {},
   "outputs": [
    {
     "data": {
      "text/plain": [
       "array([[[0, 0],\n",
       "        [0, 0]],\n",
       "\n",
       "       [[0, 0],\n",
       "        [0, 1]],\n",
       "\n",
       "       [[0, 0],\n",
       "        [0, 2]],\n",
       "\n",
       "       [[0, 0],\n",
       "        [0, 3]]])"
      ]
     },
     "execution_count": 23,
     "metadata": {},
     "output_type": "execute_result"
    }
   ],
   "source": [
    "np.fromfunction(lambda i,j,z:i*j*z ,(4,2,2),dtype=int)  #4array in the form of 2*2 array (3 dimension)"
   ]
  },
  {
   "cell_type": "code",
   "execution_count": 24,
   "id": "9d726510",
   "metadata": {},
   "outputs": [
    {
     "data": {
      "text/plain": [
       "array([[[0., 0.],\n",
       "        [0., 0.]],\n",
       "\n",
       "       [[0., 0.],\n",
       "        [0., 1.]],\n",
       "\n",
       "       [[0., 0.],\n",
       "        [0., 2.]],\n",
       "\n",
       "       [[0., 0.],\n",
       "        [0., 3.]]])"
      ]
     },
     "execution_count": 24,
     "metadata": {},
     "output_type": "execute_result"
    }
   ],
   "source": [
    "np.fromfunction(lambda i,j,z:i*j*z ,(4,2,2))  #4array in the form of 2*2 array (3 dimension)"
   ]
  },
  {
   "cell_type": "code",
   "execution_count": 25,
   "id": "5f09eb22",
   "metadata": {},
   "outputs": [
    {
     "data": {
      "text/plain": [
       "array([[[[0, 0],\n",
       "         [0, 0]],\n",
       "\n",
       "        [[0, 0],\n",
       "         [0, 0]],\n",
       "\n",
       "        [[0, 0],\n",
       "         [0, 0]]],\n",
       "\n",
       "\n",
       "       [[[0, 0],\n",
       "         [0, 0]],\n",
       "\n",
       "        [[0, 0],\n",
       "         [0, 1]],\n",
       "\n",
       "        [[0, 0],\n",
       "         [0, 2]]],\n",
       "\n",
       "\n",
       "       [[[0, 0],\n",
       "         [0, 0]],\n",
       "\n",
       "        [[0, 0],\n",
       "         [0, 2]],\n",
       "\n",
       "        [[0, 0],\n",
       "         [0, 4]]],\n",
       "\n",
       "\n",
       "       [[[0, 0],\n",
       "         [0, 0]],\n",
       "\n",
       "        [[0, 0],\n",
       "         [0, 3]],\n",
       "\n",
       "        [[0, 0],\n",
       "         [0, 6]]]])"
      ]
     },
     "execution_count": 25,
     "metadata": {},
     "output_type": "execute_result"
    }
   ],
   "source": [
    "np.fromfunction(lambda i,j,z,p:i*j*z*p ,(4,3,2,2),dtype=int) #4dimension 3array in the form of 2*2"
   ]
  },
  {
   "cell_type": "code",
   "execution_count": 28,
   "id": "87d9e96c",
   "metadata": {},
   "outputs": [
    {
     "data": {
      "text/plain": [
       "array([[[0, 0],\n",
       "        [0, 0],\n",
       "        [0, 0]],\n",
       "\n",
       "       [[0, 0],\n",
       "        [0, 1],\n",
       "        [0, 2]],\n",
       "\n",
       "       [[0, 0],\n",
       "        [0, 2],\n",
       "        [0, 4]],\n",
       "\n",
       "       [[0, 0],\n",
       "        [0, 3],\n",
       "        [0, 6]]])"
      ]
     },
     "execution_count": 28,
     "metadata": {},
     "output_type": "execute_result"
    }
   ],
   "source": [
    "a = np.fromfunction(lambda i,j,z:i*j*z ,(4,3,2), dtype=int)  #4array in the form of 2*2 array (3 dimension)\n",
    "a"
   ]
  },
  {
   "cell_type": "code",
   "execution_count": 30,
   "id": "b0874125",
   "metadata": {},
   "outputs": [
    {
     "data": {
      "text/plain": [
       "3"
      ]
     },
     "execution_count": 30,
     "metadata": {},
     "output_type": "execute_result"
    }
   ],
   "source": [
    "#to find dimension of the array\n",
    "a.ndim"
   ]
  },
  {
   "cell_type": "code",
   "execution_count": 31,
   "id": "39c47f8a",
   "metadata": {},
   "outputs": [
    {
     "data": {
      "text/plain": [
       "24"
      ]
     },
     "execution_count": 31,
     "metadata": {},
     "output_type": "execute_result"
    }
   ],
   "source": [
    "#size of the array    #we have totally 24 elements\n",
    "a.size"
   ]
  },
  {
   "cell_type": "code",
   "execution_count": 32,
   "id": "f32ff875",
   "metadata": {},
   "outputs": [
    {
     "data": {
      "text/plain": [
       "(4, 3, 2)"
      ]
     },
     "execution_count": 32,
     "metadata": {},
     "output_type": "execute_result"
    }
   ],
   "source": [
    "#to find shape of the array\n",
    "a.shape"
   ]
  },
  {
   "cell_type": "code",
   "execution_count": 33,
   "id": "441c32a0",
   "metadata": {},
   "outputs": [
    {
     "data": {
      "text/plain": [
       "dtype('int32')"
      ]
     },
     "execution_count": 33,
     "metadata": {},
     "output_type": "execute_result"
    }
   ],
   "source": [
    "#to find dataype of the array\n",
    "a.dtype"
   ]
  },
  {
   "cell_type": "code",
   "execution_count": 34,
   "id": "a57d3255",
   "metadata": {},
   "outputs": [
    {
     "ename": "ValueError",
     "evalue": "Must pass 2-d input. shape=(4, 3, 2)",
     "output_type": "error",
     "traceback": [
      "\u001b[1;31m---------------------------------------------------------------------------\u001b[0m",
      "\u001b[1;31mValueError\u001b[0m                                Traceback (most recent call last)",
      "Cell \u001b[1;32mIn[34], line 3\u001b[0m\n\u001b[0;32m      1\u001b[0m \u001b[38;5;28;01mimport\u001b[39;00m \u001b[38;5;21;01mpandas\u001b[39;00m \u001b[38;5;28;01mas\u001b[39;00m \u001b[38;5;21;01mpd\u001b[39;00m\n\u001b[0;32m      2\u001b[0m a \u001b[38;5;241m=\u001b[39m np\u001b[38;5;241m.\u001b[39mfromfunction(\u001b[38;5;28;01mlambda\u001b[39;00m i,j,z:i\u001b[38;5;241m*\u001b[39mj\u001b[38;5;241m*\u001b[39mz ,(\u001b[38;5;241m4\u001b[39m,\u001b[38;5;241m3\u001b[39m,\u001b[38;5;241m2\u001b[39m), dtype\u001b[38;5;241m=\u001b[39m\u001b[38;5;28mint\u001b[39m)  \n\u001b[1;32m----> 3\u001b[0m \u001b[43mpd\u001b[49m\u001b[38;5;241;43m.\u001b[39;49m\u001b[43mDataFrame\u001b[49m\u001b[43m(\u001b[49m\u001b[43ma\u001b[49m\u001b[43m)\u001b[49m\n",
      "File \u001b[1;32m~\\anaconda3\\lib\\site-packages\\pandas\\core\\frame.py:722\u001b[0m, in \u001b[0;36mDataFrame.__init__\u001b[1;34m(self, data, index, columns, dtype, copy)\u001b[0m\n\u001b[0;32m    712\u001b[0m         mgr \u001b[38;5;241m=\u001b[39m dict_to_mgr(\n\u001b[0;32m    713\u001b[0m             \u001b[38;5;66;03m# error: Item \"ndarray\" of \"Union[ndarray, Series, Index]\" has no\u001b[39;00m\n\u001b[0;32m    714\u001b[0m             \u001b[38;5;66;03m# attribute \"name\"\u001b[39;00m\n\u001b[1;32m   (...)\u001b[0m\n\u001b[0;32m    719\u001b[0m             typ\u001b[38;5;241m=\u001b[39mmanager,\n\u001b[0;32m    720\u001b[0m         )\n\u001b[0;32m    721\u001b[0m     \u001b[38;5;28;01melse\u001b[39;00m:\n\u001b[1;32m--> 722\u001b[0m         mgr \u001b[38;5;241m=\u001b[39m \u001b[43mndarray_to_mgr\u001b[49m\u001b[43m(\u001b[49m\n\u001b[0;32m    723\u001b[0m \u001b[43m            \u001b[49m\u001b[43mdata\u001b[49m\u001b[43m,\u001b[49m\n\u001b[0;32m    724\u001b[0m \u001b[43m            \u001b[49m\u001b[43mindex\u001b[49m\u001b[43m,\u001b[49m\n\u001b[0;32m    725\u001b[0m \u001b[43m            \u001b[49m\u001b[43mcolumns\u001b[49m\u001b[43m,\u001b[49m\n\u001b[0;32m    726\u001b[0m \u001b[43m            \u001b[49m\u001b[43mdtype\u001b[49m\u001b[38;5;241;43m=\u001b[39;49m\u001b[43mdtype\u001b[49m\u001b[43m,\u001b[49m\n\u001b[0;32m    727\u001b[0m \u001b[43m            \u001b[49m\u001b[43mcopy\u001b[49m\u001b[38;5;241;43m=\u001b[39;49m\u001b[43mcopy\u001b[49m\u001b[43m,\u001b[49m\n\u001b[0;32m    728\u001b[0m \u001b[43m            \u001b[49m\u001b[43mtyp\u001b[49m\u001b[38;5;241;43m=\u001b[39;49m\u001b[43mmanager\u001b[49m\u001b[43m,\u001b[49m\n\u001b[0;32m    729\u001b[0m \u001b[43m        \u001b[49m\u001b[43m)\u001b[49m\n\u001b[0;32m    731\u001b[0m \u001b[38;5;66;03m# For data is list-like, or Iterable (will consume into list)\u001b[39;00m\n\u001b[0;32m    732\u001b[0m \u001b[38;5;28;01melif\u001b[39;00m is_list_like(data):\n",
      "File \u001b[1;32m~\\anaconda3\\lib\\site-packages\\pandas\\core\\internals\\construction.py:329\u001b[0m, in \u001b[0;36mndarray_to_mgr\u001b[1;34m(values, index, columns, dtype, copy, typ)\u001b[0m\n\u001b[0;32m    324\u001b[0m         values \u001b[38;5;241m=\u001b[39m values\u001b[38;5;241m.\u001b[39mreshape(\u001b[38;5;241m-\u001b[39m\u001b[38;5;241m1\u001b[39m, \u001b[38;5;241m1\u001b[39m)\n\u001b[0;32m    326\u001b[0m \u001b[38;5;28;01melse\u001b[39;00m:\n\u001b[0;32m    327\u001b[0m     \u001b[38;5;66;03m# by definition an array here\u001b[39;00m\n\u001b[0;32m    328\u001b[0m     \u001b[38;5;66;03m# the dtypes will be coerced to a single dtype\u001b[39;00m\n\u001b[1;32m--> 329\u001b[0m     values \u001b[38;5;241m=\u001b[39m \u001b[43m_prep_ndarraylike\u001b[49m\u001b[43m(\u001b[49m\u001b[43mvalues\u001b[49m\u001b[43m,\u001b[49m\u001b[43m \u001b[49m\u001b[43mcopy\u001b[49m\u001b[38;5;241;43m=\u001b[39;49m\u001b[43mcopy_on_sanitize\u001b[49m\u001b[43m)\u001b[49m\n\u001b[0;32m    331\u001b[0m \u001b[38;5;28;01mif\u001b[39;00m dtype \u001b[38;5;129;01mis\u001b[39;00m \u001b[38;5;129;01mnot\u001b[39;00m \u001b[38;5;28;01mNone\u001b[39;00m \u001b[38;5;129;01mand\u001b[39;00m \u001b[38;5;129;01mnot\u001b[39;00m is_dtype_equal(values\u001b[38;5;241m.\u001b[39mdtype, dtype):\n\u001b[0;32m    332\u001b[0m     \u001b[38;5;66;03m# GH#40110 see similar check inside sanitize_array\u001b[39;00m\n\u001b[0;32m    333\u001b[0m     rcf \u001b[38;5;241m=\u001b[39m \u001b[38;5;129;01mnot\u001b[39;00m (is_integer_dtype(dtype) \u001b[38;5;129;01mand\u001b[39;00m values\u001b[38;5;241m.\u001b[39mdtype\u001b[38;5;241m.\u001b[39mkind \u001b[38;5;241m==\u001b[39m \u001b[38;5;124m\"\u001b[39m\u001b[38;5;124mf\u001b[39m\u001b[38;5;124m\"\u001b[39m)\n",
      "File \u001b[1;32m~\\anaconda3\\lib\\site-packages\\pandas\\core\\internals\\construction.py:583\u001b[0m, in \u001b[0;36m_prep_ndarraylike\u001b[1;34m(values, copy)\u001b[0m\n\u001b[0;32m    581\u001b[0m     values \u001b[38;5;241m=\u001b[39m values\u001b[38;5;241m.\u001b[39mreshape((values\u001b[38;5;241m.\u001b[39mshape[\u001b[38;5;241m0\u001b[39m], \u001b[38;5;241m1\u001b[39m))\n\u001b[0;32m    582\u001b[0m \u001b[38;5;28;01melif\u001b[39;00m values\u001b[38;5;241m.\u001b[39mndim \u001b[38;5;241m!=\u001b[39m \u001b[38;5;241m2\u001b[39m:\n\u001b[1;32m--> 583\u001b[0m     \u001b[38;5;28;01mraise\u001b[39;00m \u001b[38;5;167;01mValueError\u001b[39;00m(\u001b[38;5;124mf\u001b[39m\u001b[38;5;124m\"\u001b[39m\u001b[38;5;124mMust pass 2-d input. shape=\u001b[39m\u001b[38;5;132;01m{\u001b[39;00mvalues\u001b[38;5;241m.\u001b[39mshape\u001b[38;5;132;01m}\u001b[39;00m\u001b[38;5;124m\"\u001b[39m)\n\u001b[0;32m    585\u001b[0m \u001b[38;5;28;01mreturn\u001b[39;00m values\n",
      "\u001b[1;31mValueError\u001b[0m: Must pass 2-d input. shape=(4, 3, 2)"
     ]
    }
   ],
   "source": [
    "import pandas as pd\n",
    "a = np.fromfunction(lambda i,j,z:i*j*z ,(4,3,2), dtype=int)  \n",
    "pd.DataFrame(a)"
   ]
  },
  {
   "cell_type": "code",
   "execution_count": 36,
   "id": "f4c162f6",
   "metadata": {},
   "outputs": [
    {
     "data": {
      "text/html": [
       "<div>\n",
       "<style scoped>\n",
       "    .dataframe tbody tr th:only-of-type {\n",
       "        vertical-align: middle;\n",
       "    }\n",
       "\n",
       "    .dataframe tbody tr th {\n",
       "        vertical-align: top;\n",
       "    }\n",
       "\n",
       "    .dataframe thead th {\n",
       "        text-align: right;\n",
       "    }\n",
       "</style>\n",
       "<table border=\"1\" class=\"dataframe\">\n",
       "  <thead>\n",
       "    <tr style=\"text-align: right;\">\n",
       "      <th></th>\n",
       "      <th>0</th>\n",
       "      <th>1</th>\n",
       "      <th>2</th>\n",
       "    </tr>\n",
       "  </thead>\n",
       "  <tbody>\n",
       "    <tr>\n",
       "      <th>0</th>\n",
       "      <td>0</td>\n",
       "      <td>0</td>\n",
       "      <td>0</td>\n",
       "    </tr>\n",
       "    <tr>\n",
       "      <th>1</th>\n",
       "      <td>0</td>\n",
       "      <td>1</td>\n",
       "      <td>2</td>\n",
       "    </tr>\n",
       "    <tr>\n",
       "      <th>2</th>\n",
       "      <td>0</td>\n",
       "      <td>2</td>\n",
       "      <td>4</td>\n",
       "    </tr>\n",
       "  </tbody>\n",
       "</table>\n",
       "</div>"
      ],
      "text/plain": [
       "   0  1  2\n",
       "0  0  0  0\n",
       "1  0  1  2\n",
       "2  0  2  4"
      ]
     },
     "execution_count": 36,
     "metadata": {},
     "output_type": "execute_result"
    }
   ],
   "source": [
    "a = np.fromfunction(lambda i,j:i*j ,(3,3), dtype=int)  \n",
    "pd.DataFrame(a)              #we can create a table because of 2D"
   ]
  },
  {
   "cell_type": "code",
   "execution_count": 38,
   "id": "2dfe93ea",
   "metadata": {},
   "outputs": [
    {
     "data": {
      "text/html": [
       "<div>\n",
       "<style scoped>\n",
       "    .dataframe tbody tr th:only-of-type {\n",
       "        vertical-align: middle;\n",
       "    }\n",
       "\n",
       "    .dataframe tbody tr th {\n",
       "        vertical-align: top;\n",
       "    }\n",
       "\n",
       "    .dataframe thead th {\n",
       "        text-align: right;\n",
       "    }\n",
       "</style>\n",
       "<table border=\"1\" class=\"dataframe\">\n",
       "  <thead>\n",
       "    <tr style=\"text-align: right;\">\n",
       "      <th></th>\n",
       "      <th>0</th>\n",
       "      <th>1</th>\n",
       "      <th>2</th>\n",
       "      <th>3</th>\n",
       "      <th>4</th>\n",
       "      <th>5</th>\n",
       "      <th>6</th>\n",
       "      <th>7</th>\n",
       "      <th>8</th>\n",
       "      <th>9</th>\n",
       "      <th>10</th>\n",
       "      <th>11</th>\n",
       "      <th>12</th>\n",
       "      <th>13</th>\n",
       "      <th>14</th>\n",
       "      <th>15</th>\n",
       "      <th>16</th>\n",
       "      <th>17</th>\n",
       "      <th>18</th>\n",
       "      <th>19</th>\n",
       "    </tr>\n",
       "  </thead>\n",
       "  <tbody>\n",
       "    <tr>\n",
       "      <th>0</th>\n",
       "      <td>0</td>\n",
       "      <td>1</td>\n",
       "      <td>2</td>\n",
       "      <td>3</td>\n",
       "      <td>4</td>\n",
       "      <td>5</td>\n",
       "      <td>6</td>\n",
       "      <td>7</td>\n",
       "      <td>8</td>\n",
       "      <td>9</td>\n",
       "      <td>10</td>\n",
       "      <td>11</td>\n",
       "      <td>12</td>\n",
       "      <td>13</td>\n",
       "      <td>14</td>\n",
       "      <td>15</td>\n",
       "      <td>16</td>\n",
       "      <td>17</td>\n",
       "      <td>18</td>\n",
       "      <td>19</td>\n",
       "    </tr>\n",
       "    <tr>\n",
       "      <th>1</th>\n",
       "      <td>1</td>\n",
       "      <td>2</td>\n",
       "      <td>3</td>\n",
       "      <td>4</td>\n",
       "      <td>5</td>\n",
       "      <td>6</td>\n",
       "      <td>7</td>\n",
       "      <td>8</td>\n",
       "      <td>9</td>\n",
       "      <td>10</td>\n",
       "      <td>11</td>\n",
       "      <td>12</td>\n",
       "      <td>13</td>\n",
       "      <td>14</td>\n",
       "      <td>15</td>\n",
       "      <td>16</td>\n",
       "      <td>17</td>\n",
       "      <td>18</td>\n",
       "      <td>19</td>\n",
       "      <td>20</td>\n",
       "    </tr>\n",
       "    <tr>\n",
       "      <th>2</th>\n",
       "      <td>2</td>\n",
       "      <td>3</td>\n",
       "      <td>4</td>\n",
       "      <td>5</td>\n",
       "      <td>6</td>\n",
       "      <td>7</td>\n",
       "      <td>8</td>\n",
       "      <td>9</td>\n",
       "      <td>10</td>\n",
       "      <td>11</td>\n",
       "      <td>12</td>\n",
       "      <td>13</td>\n",
       "      <td>14</td>\n",
       "      <td>15</td>\n",
       "      <td>16</td>\n",
       "      <td>17</td>\n",
       "      <td>18</td>\n",
       "      <td>19</td>\n",
       "      <td>20</td>\n",
       "      <td>21</td>\n",
       "    </tr>\n",
       "    <tr>\n",
       "      <th>3</th>\n",
       "      <td>3</td>\n",
       "      <td>4</td>\n",
       "      <td>5</td>\n",
       "      <td>6</td>\n",
       "      <td>7</td>\n",
       "      <td>8</td>\n",
       "      <td>9</td>\n",
       "      <td>10</td>\n",
       "      <td>11</td>\n",
       "      <td>12</td>\n",
       "      <td>13</td>\n",
       "      <td>14</td>\n",
       "      <td>15</td>\n",
       "      <td>16</td>\n",
       "      <td>17</td>\n",
       "      <td>18</td>\n",
       "      <td>19</td>\n",
       "      <td>20</td>\n",
       "      <td>21</td>\n",
       "      <td>22</td>\n",
       "    </tr>\n",
       "    <tr>\n",
       "      <th>4</th>\n",
       "      <td>4</td>\n",
       "      <td>5</td>\n",
       "      <td>6</td>\n",
       "      <td>7</td>\n",
       "      <td>8</td>\n",
       "      <td>9</td>\n",
       "      <td>10</td>\n",
       "      <td>11</td>\n",
       "      <td>12</td>\n",
       "      <td>13</td>\n",
       "      <td>14</td>\n",
       "      <td>15</td>\n",
       "      <td>16</td>\n",
       "      <td>17</td>\n",
       "      <td>18</td>\n",
       "      <td>19</td>\n",
       "      <td>20</td>\n",
       "      <td>21</td>\n",
       "      <td>22</td>\n",
       "      <td>23</td>\n",
       "    </tr>\n",
       "    <tr>\n",
       "      <th>...</th>\n",
       "      <td>...</td>\n",
       "      <td>...</td>\n",
       "      <td>...</td>\n",
       "      <td>...</td>\n",
       "      <td>...</td>\n",
       "      <td>...</td>\n",
       "      <td>...</td>\n",
       "      <td>...</td>\n",
       "      <td>...</td>\n",
       "      <td>...</td>\n",
       "      <td>...</td>\n",
       "      <td>...</td>\n",
       "      <td>...</td>\n",
       "      <td>...</td>\n",
       "      <td>...</td>\n",
       "      <td>...</td>\n",
       "      <td>...</td>\n",
       "      <td>...</td>\n",
       "      <td>...</td>\n",
       "      <td>...</td>\n",
       "    </tr>\n",
       "    <tr>\n",
       "      <th>95</th>\n",
       "      <td>95</td>\n",
       "      <td>96</td>\n",
       "      <td>97</td>\n",
       "      <td>98</td>\n",
       "      <td>99</td>\n",
       "      <td>100</td>\n",
       "      <td>101</td>\n",
       "      <td>102</td>\n",
       "      <td>103</td>\n",
       "      <td>104</td>\n",
       "      <td>105</td>\n",
       "      <td>106</td>\n",
       "      <td>107</td>\n",
       "      <td>108</td>\n",
       "      <td>109</td>\n",
       "      <td>110</td>\n",
       "      <td>111</td>\n",
       "      <td>112</td>\n",
       "      <td>113</td>\n",
       "      <td>114</td>\n",
       "    </tr>\n",
       "    <tr>\n",
       "      <th>96</th>\n",
       "      <td>96</td>\n",
       "      <td>97</td>\n",
       "      <td>98</td>\n",
       "      <td>99</td>\n",
       "      <td>100</td>\n",
       "      <td>101</td>\n",
       "      <td>102</td>\n",
       "      <td>103</td>\n",
       "      <td>104</td>\n",
       "      <td>105</td>\n",
       "      <td>106</td>\n",
       "      <td>107</td>\n",
       "      <td>108</td>\n",
       "      <td>109</td>\n",
       "      <td>110</td>\n",
       "      <td>111</td>\n",
       "      <td>112</td>\n",
       "      <td>113</td>\n",
       "      <td>114</td>\n",
       "      <td>115</td>\n",
       "    </tr>\n",
       "    <tr>\n",
       "      <th>97</th>\n",
       "      <td>97</td>\n",
       "      <td>98</td>\n",
       "      <td>99</td>\n",
       "      <td>100</td>\n",
       "      <td>101</td>\n",
       "      <td>102</td>\n",
       "      <td>103</td>\n",
       "      <td>104</td>\n",
       "      <td>105</td>\n",
       "      <td>106</td>\n",
       "      <td>107</td>\n",
       "      <td>108</td>\n",
       "      <td>109</td>\n",
       "      <td>110</td>\n",
       "      <td>111</td>\n",
       "      <td>112</td>\n",
       "      <td>113</td>\n",
       "      <td>114</td>\n",
       "      <td>115</td>\n",
       "      <td>116</td>\n",
       "    </tr>\n",
       "    <tr>\n",
       "      <th>98</th>\n",
       "      <td>98</td>\n",
       "      <td>99</td>\n",
       "      <td>100</td>\n",
       "      <td>101</td>\n",
       "      <td>102</td>\n",
       "      <td>103</td>\n",
       "      <td>104</td>\n",
       "      <td>105</td>\n",
       "      <td>106</td>\n",
       "      <td>107</td>\n",
       "      <td>108</td>\n",
       "      <td>109</td>\n",
       "      <td>110</td>\n",
       "      <td>111</td>\n",
       "      <td>112</td>\n",
       "      <td>113</td>\n",
       "      <td>114</td>\n",
       "      <td>115</td>\n",
       "      <td>116</td>\n",
       "      <td>117</td>\n",
       "    </tr>\n",
       "    <tr>\n",
       "      <th>99</th>\n",
       "      <td>99</td>\n",
       "      <td>100</td>\n",
       "      <td>101</td>\n",
       "      <td>102</td>\n",
       "      <td>103</td>\n",
       "      <td>104</td>\n",
       "      <td>105</td>\n",
       "      <td>106</td>\n",
       "      <td>107</td>\n",
       "      <td>108</td>\n",
       "      <td>109</td>\n",
       "      <td>110</td>\n",
       "      <td>111</td>\n",
       "      <td>112</td>\n",
       "      <td>113</td>\n",
       "      <td>114</td>\n",
       "      <td>115</td>\n",
       "      <td>116</td>\n",
       "      <td>117</td>\n",
       "      <td>118</td>\n",
       "    </tr>\n",
       "  </tbody>\n",
       "</table>\n",
       "<p>100 rows × 20 columns</p>\n",
       "</div>"
      ],
      "text/plain": [
       "    0    1    2    3    4    5    6    7    8    9    10   11   12   13   14  \\\n",
       "0    0    1    2    3    4    5    6    7    8    9   10   11   12   13   14   \n",
       "1    1    2    3    4    5    6    7    8    9   10   11   12   13   14   15   \n",
       "2    2    3    4    5    6    7    8    9   10   11   12   13   14   15   16   \n",
       "3    3    4    5    6    7    8    9   10   11   12   13   14   15   16   17   \n",
       "4    4    5    6    7    8    9   10   11   12   13   14   15   16   17   18   \n",
       "..  ..  ...  ...  ...  ...  ...  ...  ...  ...  ...  ...  ...  ...  ...  ...   \n",
       "95  95   96   97   98   99  100  101  102  103  104  105  106  107  108  109   \n",
       "96  96   97   98   99  100  101  102  103  104  105  106  107  108  109  110   \n",
       "97  97   98   99  100  101  102  103  104  105  106  107  108  109  110  111   \n",
       "98  98   99  100  101  102  103  104  105  106  107  108  109  110  111  112   \n",
       "99  99  100  101  102  103  104  105  106  107  108  109  110  111  112  113   \n",
       "\n",
       "     15   16   17   18   19  \n",
       "0    15   16   17   18   19  \n",
       "1    16   17   18   19   20  \n",
       "2    17   18   19   20   21  \n",
       "3    18   19   20   21   22  \n",
       "4    19   20   21   22   23  \n",
       "..  ...  ...  ...  ...  ...  \n",
       "95  110  111  112  113  114  \n",
       "96  111  112  113  114  115  \n",
       "97  112  113  114  115  116  \n",
       "98  113  114  115  116  117  \n",
       "99  114  115  116  117  118  \n",
       "\n",
       "[100 rows x 20 columns]"
      ]
     },
     "execution_count": 38,
     "metadata": {},
     "output_type": "execute_result"
    }
   ],
   "source": [
    "b = np.fromfunction(lambda i,j:i+j ,(100,20), dtype=int)  \n",
    "pd.DataFrame(b)"
   ]
  },
  {
   "cell_type": "code",
   "execution_count": 39,
   "id": "da092f47",
   "metadata": {},
   "outputs": [
    {
     "data": {
      "text/plain": [
       "array([[1.69842956e-01, 9.64860437e-01, 3.20386286e-01, 4.67767084e-01],\n",
       "       [8.60382159e-01, 4.77800712e-03, 9.39810118e-01, 6.86263981e-01],\n",
       "       [9.05138653e-01, 5.45890103e-01, 2.95123064e-01, 1.93398741e-01],\n",
       "       [2.84920116e-01, 2.37389834e-01, 8.15151130e-01, 7.79865476e-01],\n",
       "       [7.78980900e-01, 8.66638352e-01, 5.46875160e-01, 2.22305506e-01],\n",
       "       [4.28853864e-01, 4.50442689e-01, 6.40999886e-01, 5.35840261e-01],\n",
       "       [7.96897090e-01, 9.34330594e-01, 5.11143792e-01, 6.85001189e-02],\n",
       "       [6.03325997e-01, 9.46146479e-01, 3.83285705e-01, 5.47216640e-01],\n",
       "       [5.87395926e-01, 4.69291910e-01, 8.96016288e-01, 9.37830320e-01],\n",
       "       [6.83285151e-01, 9.17439020e-01, 2.13712742e-01, 6.05016307e-03],\n",
       "       [6.42114712e-01, 4.12633997e-02, 7.66949552e-01, 3.82940766e-01],\n",
       "       [4.40345715e-01, 9.52185681e-01, 2.94433823e-01, 9.29862750e-01],\n",
       "       [5.49976092e-01, 7.24401847e-01, 3.35793326e-01, 6.97699961e-01],\n",
       "       [3.31199911e-01, 9.36881573e-01, 1.91255457e-01, 6.35130641e-01],\n",
       "       [6.21962371e-01, 4.66930397e-02, 7.00530731e-01, 2.80817779e-01],\n",
       "       [8.86848333e-01, 1.21239072e-01, 5.21869291e-01, 2.31385991e-01],\n",
       "       [7.99919756e-01, 1.48886383e-01, 7.38892714e-01, 6.57175567e-02],\n",
       "       [6.64069636e-01, 4.31322937e-01, 1.43394557e-01, 2.74535555e-01],\n",
       "       [2.99159144e-01, 7.83421591e-01, 3.43798572e-02, 8.85814124e-01],\n",
       "       [8.45075199e-01, 6.34552067e-01, 5.01947955e-01, 2.51572177e-02],\n",
       "       [8.32898099e-01, 8.05624924e-01, 4.07347662e-01, 2.24268051e-01],\n",
       "       [7.53684570e-01, 5.00178588e-01, 4.49506251e-01, 1.64372261e-01],\n",
       "       [4.81478331e-01, 8.05507460e-01, 4.12416182e-01, 2.59175091e-01],\n",
       "       [8.86063704e-01, 1.97354958e-01, 3.89433004e-01, 4.72291285e-01],\n",
       "       [8.74254361e-02, 8.42407789e-01, 4.85436717e-01, 5.19409741e-01],\n",
       "       [3.02746885e-01, 6.31010107e-01, 2.10918516e-01, 1.55030031e-01],\n",
       "       [4.94696269e-01, 5.73107345e-01, 5.15966778e-01, 5.87279661e-01],\n",
       "       [2.78653650e-01, 9.65697171e-01, 4.58241092e-01, 5.31467488e-01],\n",
       "       [1.54983342e-01, 7.71919347e-01, 8.61884033e-01, 6.18679110e-01],\n",
       "       [1.43222341e-01, 1.42302205e-03, 8.55217406e-01, 2.83637107e-01],\n",
       "       [9.51806120e-01, 8.02744023e-01, 9.69736871e-02, 8.95434465e-01],\n",
       "       [9.42570877e-01, 5.49736389e-01, 9.13364330e-01, 4.66019120e-01],\n",
       "       [8.18214110e-03, 4.37461035e-01, 8.21074879e-01, 7.69299882e-01],\n",
       "       [6.64533496e-01, 8.85573558e-01, 2.79340142e-01, 1.77560732e-01],\n",
       "       [6.17776644e-01, 1.21185638e-01, 6.89478159e-01, 5.93210023e-01],\n",
       "       [2.30486010e-01, 9.80704564e-01, 3.46977312e-01, 8.79732770e-01],\n",
       "       [6.77944073e-01, 6.60856172e-01, 8.18339471e-01, 9.35357154e-01],\n",
       "       [6.84066988e-01, 6.47518611e-01, 8.26107775e-01, 5.21614500e-01],\n",
       "       [3.57184001e-01, 3.97963304e-01, 5.81170500e-01, 1.61121108e-01],\n",
       "       [7.35667108e-01, 5.73747173e-01, 3.65565284e-01, 7.76172483e-01],\n",
       "       [1.67822844e-01, 1.88752202e-01, 6.00666021e-01, 5.06072400e-01],\n",
       "       [2.85447167e-02, 5.49884184e-02, 6.38188079e-01, 4.54810205e-01],\n",
       "       [9.99105927e-01, 9.23180182e-01, 1.68525129e-01, 9.72924283e-01],\n",
       "       [7.15417548e-01, 1.93041586e-01, 6.43079842e-01, 8.87676192e-01],\n",
       "       [3.70428445e-01, 1.29939426e-01, 5.39925367e-01, 6.49927077e-02],\n",
       "       [4.79943364e-01, 5.13058706e-01, 5.51031128e-01, 1.27845610e-01],\n",
       "       [7.70877820e-01, 5.62540584e-02, 2.29378662e-02, 2.55602958e-04],\n",
       "       [8.59806422e-01, 2.66521239e-01, 4.25752258e-01, 5.04036327e-01],\n",
       "       [2.56797981e-01, 3.49148521e-01, 2.66066772e-01, 8.63125795e-01],\n",
       "       [5.36357304e-01, 9.14643981e-01, 4.31955256e-01, 5.19268957e-01],\n",
       "       [7.05536923e-01, 6.09887709e-01, 4.35145578e-01, 6.67035849e-01],\n",
       "       [2.94077868e-01, 9.01305792e-01, 1.60216407e-01, 2.37911673e-01],\n",
       "       [4.54008816e-01, 1.71084960e-01, 8.57881162e-01, 7.29226818e-01],\n",
       "       [8.02920235e-02, 7.63176365e-01, 5.29581579e-01, 2.37553828e-02],\n",
       "       [1.73142054e-01, 4.61629182e-01, 7.82267572e-01, 4.18523868e-01],\n",
       "       [1.45064670e-01, 2.04450861e-01, 3.21237054e-01, 1.95541503e-01],\n",
       "       [4.97959945e-01, 9.60565193e-01, 8.18910591e-01, 3.74373706e-01],\n",
       "       [8.33742511e-01, 4.97320878e-01, 2.59422430e-01, 6.63261287e-01],\n",
       "       [2.66825066e-01, 3.58653093e-02, 7.46948423e-01, 2.46728781e-01],\n",
       "       [2.55116507e-01, 5.54103607e-01, 4.58126685e-01, 5.81919104e-01],\n",
       "       [8.12003739e-01, 1.17862586e-01, 4.11428779e-01, 1.79590565e-01],\n",
       "       [8.33757151e-01, 5.59747663e-01, 9.25222530e-01, 8.24996567e-01],\n",
       "       [7.52167505e-01, 5.30752021e-01, 5.86033761e-01, 8.80867195e-02],\n",
       "       [7.43429964e-02, 9.85751064e-01, 3.75569532e-01, 5.85321980e-01],\n",
       "       [9.42893107e-01, 5.21277482e-01, 9.47355266e-01, 6.82260792e-01],\n",
       "       [9.02173327e-01, 8.89075261e-01, 9.45264555e-01, 4.42604228e-01],\n",
       "       [8.56159793e-01, 8.72848547e-01, 3.45408578e-01, 4.03164860e-01],\n",
       "       [4.06846462e-01, 4.06403710e-01, 4.85605395e-01, 4.20416723e-01],\n",
       "       [4.37003818e-01, 6.11742942e-01, 6.72829441e-01, 7.06957363e-01],\n",
       "       [6.07304537e-01, 2.07308809e-01, 6.34154763e-02, 3.60167451e-01],\n",
       "       [6.20353702e-01, 5.18183049e-01, 9.41672794e-01, 8.73893572e-01],\n",
       "       [4.57896197e-02, 6.46828093e-01, 4.44494305e-01, 1.12347364e-02],\n",
       "       [6.86995919e-02, 7.40545862e-01, 7.31040775e-01, 2.05338711e-01],\n",
       "       [3.43969169e-01, 2.33804175e-02, 9.99427369e-01, 5.20253484e-01],\n",
       "       [6.84280255e-01, 8.08083636e-01, 1.24078580e-02, 6.78631175e-01],\n",
       "       [2.24984858e-01, 2.99711784e-01, 4.23807203e-01, 8.62131944e-01],\n",
       "       [3.50092652e-01, 2.71135247e-01, 4.24583255e-01, 8.58078024e-01],\n",
       "       [8.74473878e-01, 6.80432200e-01, 6.14769548e-01, 7.39245566e-01],\n",
       "       [4.33817878e-01, 5.72431726e-01, 1.16582862e-01, 8.26808972e-01],\n",
       "       [1.95489542e-01, 1.96951274e-01, 6.25258872e-01, 3.69955451e-01],\n",
       "       [6.84595027e-04, 3.84142815e-01, 4.33388109e-01, 3.88785572e-01],\n",
       "       [3.09171438e-01, 1.06124940e-01, 6.70931499e-01, 4.06444309e-01],\n",
       "       [8.49464871e-01, 3.72800382e-01, 3.62630411e-01, 9.87783988e-01],\n",
       "       [8.27999192e-01, 7.49220536e-01, 9.47058692e-01, 8.69254457e-02],\n",
       "       [8.15747050e-01, 4.35981558e-01, 3.17995369e-01, 2.80007348e-02],\n",
       "       [6.47725707e-01, 2.43115233e-02, 1.43187228e-01, 4.72835828e-01],\n",
       "       [7.99477669e-01, 5.98038004e-01, 8.60709505e-01, 8.46979719e-01],\n",
       "       [7.03078089e-01, 1.24148831e-01, 1.75904255e-01, 2.78149660e-01],\n",
       "       [5.22367502e-02, 9.30640135e-01, 4.63404431e-01, 7.48596796e-01],\n",
       "       [7.62350676e-01, 3.01810857e-01, 9.56026144e-01, 8.58895935e-01],\n",
       "       [9.67337031e-01, 2.50281038e-01, 7.01556599e-01, 1.04708947e-01],\n",
       "       [6.93035157e-01, 6.63711064e-01, 5.47724765e-01, 3.24949752e-01],\n",
       "       [5.24013061e-01, 2.89416653e-01, 8.73169148e-02, 6.38920651e-01],\n",
       "       [6.48015072e-01, 9.28244331e-01, 2.21236955e-01, 6.25885487e-01],\n",
       "       [8.98230260e-01, 8.70278666e-01, 2.25527338e-01, 6.13905467e-01],\n",
       "       [2.61767607e-01, 1.47056515e-01, 9.10525625e-01, 1.68380942e-01],\n",
       "       [6.64205303e-01, 6.12955998e-01, 2.98729897e-01, 6.60622883e-01],\n",
       "       [2.76562812e-01, 6.01153295e-01, 5.42980130e-01, 4.88508619e-01],\n",
       "       [5.42459428e-01, 1.79801692e-01, 5.14332971e-01, 2.25826364e-01],\n",
       "       [2.09178743e-01, 2.40703647e-02, 2.75753594e-01, 7.69465083e-03]])"
      ]
     },
     "execution_count": 39,
     "metadata": {},
     "output_type": "execute_result"
    }
   ],
   "source": [
    "#generating random data\n",
    "np.random.rand(100,4)"
   ]
  },
  {
   "cell_type": "code",
   "execution_count": 43,
   "id": "95459022",
   "metadata": {},
   "outputs": [
    {
     "data": {
      "text/plain": [
       "11"
      ]
     },
     "execution_count": 43,
     "metadata": {},
     "output_type": "execute_result"
    }
   ],
   "source": [
    "np.random.randint(4,50) #this fun generate random int between 4 and 50"
   ]
  },
  {
   "cell_type": "code",
   "execution_count": 47,
   "id": "cf972fab",
   "metadata": {},
   "outputs": [
    {
     "data": {
      "text/plain": [
       "array([[ 1.76188582, -1.17403608,  0.48329741,  1.08524063, -0.48035718],\n",
       "       [-0.93212409, -1.0009703 , -1.58598211,  0.66279817,  0.8616647 ],\n",
       "       [ 1.11652646,  1.15243771,  2.32243418, -0.1234997 ,  0.76179244],\n",
       "       [ 0.35380302, -0.74106382,  2.39483435,  0.2592886 ,  0.87123123]])"
      ]
     },
     "execution_count": 47,
     "metadata": {},
     "output_type": "execute_result"
    }
   ],
   "source": [
    "np.random.randn(4,5) #this fun will generate random numbers which follow normal distribution\n",
    "                     #by adding all this mean will be zero and SD will be 1"
   ]
  },
  {
   "cell_type": "code",
   "execution_count": 48,
   "id": "4fd19c1d",
   "metadata": {},
   "outputs": [
    {
     "data": {
      "text/html": [
       "<div>\n",
       "<style scoped>\n",
       "    .dataframe tbody tr th:only-of-type {\n",
       "        vertical-align: middle;\n",
       "    }\n",
       "\n",
       "    .dataframe tbody tr th {\n",
       "        vertical-align: top;\n",
       "    }\n",
       "\n",
       "    .dataframe thead th {\n",
       "        text-align: right;\n",
       "    }\n",
       "</style>\n",
       "<table border=\"1\" class=\"dataframe\">\n",
       "  <thead>\n",
       "    <tr style=\"text-align: right;\">\n",
       "      <th></th>\n",
       "      <th>0</th>\n",
       "      <th>1</th>\n",
       "      <th>2</th>\n",
       "      <th>3</th>\n",
       "      <th>4</th>\n",
       "    </tr>\n",
       "  </thead>\n",
       "  <tbody>\n",
       "    <tr>\n",
       "      <th>0</th>\n",
       "      <td>-1.423412</td>\n",
       "      <td>-1.643758</td>\n",
       "      <td>1.640673</td>\n",
       "      <td>-0.728990</td>\n",
       "      <td>-0.541121</td>\n",
       "    </tr>\n",
       "    <tr>\n",
       "      <th>1</th>\n",
       "      <td>-0.676371</td>\n",
       "      <td>0.370314</td>\n",
       "      <td>-0.337789</td>\n",
       "      <td>0.605281</td>\n",
       "      <td>-1.359733</td>\n",
       "    </tr>\n",
       "    <tr>\n",
       "      <th>2</th>\n",
       "      <td>1.686511</td>\n",
       "      <td>-0.813056</td>\n",
       "      <td>-0.073429</td>\n",
       "      <td>0.357634</td>\n",
       "      <td>0.462792</td>\n",
       "    </tr>\n",
       "    <tr>\n",
       "      <th>3</th>\n",
       "      <td>0.536773</td>\n",
       "      <td>1.108667</td>\n",
       "      <td>1.288147</td>\n",
       "      <td>-0.163282</td>\n",
       "      <td>-1.049258</td>\n",
       "    </tr>\n",
       "  </tbody>\n",
       "</table>\n",
       "</div>"
      ],
      "text/plain": [
       "          0         1         2         3         4\n",
       "0 -1.423412 -1.643758  1.640673 -0.728990 -0.541121\n",
       "1 -0.676371  0.370314 -0.337789  0.605281 -1.359733\n",
       "2  1.686511 -0.813056 -0.073429  0.357634  0.462792\n",
       "3  0.536773  1.108667  1.288147 -0.163282 -1.049258"
      ]
     },
     "execution_count": 48,
     "metadata": {},
     "output_type": "execute_result"
    }
   ],
   "source": [
    "#create a dataframe which follows normal distributions\n",
    "pd.DataFrame(np.random.randn(4,5))"
   ]
  },
  {
   "cell_type": "code",
   "execution_count": 57,
   "id": "947deaf9",
   "metadata": {},
   "outputs": [
    {
     "data": {
      "text/plain": [
       "array([[0, 0, 0],\n",
       "       [0, 0, 0],\n",
       "       [0, 0, 0],\n",
       "       [1, 0, 2],\n",
       "       [0, 0, 0],\n",
       "       [2, 0, 4],\n",
       "       [0, 0, 0],\n",
       "       [3, 0, 6]])"
      ]
     },
     "execution_count": 57,
     "metadata": {},
     "output_type": "execute_result"
    }
   ],
   "source": [
    "#reshape the dimension of array \n",
    "d = np.fromfunction(lambda i,j,z:i*j*z ,(4,3,2), dtype=int) #3D to 2D\n",
    "d.reshape(8,3)"
   ]
  },
  {
   "cell_type": "code",
   "execution_count": 58,
   "id": "a4ebd263",
   "metadata": {},
   "outputs": [
    {
     "data": {
      "text/plain": [
       "array([[[[0, 0],\n",
       "         [0, 0],\n",
       "         [0, 0]],\n",
       "\n",
       "        [[0, 0],\n",
       "         [0, 1],\n",
       "         [0, 2]]],\n",
       "\n",
       "\n",
       "       [[[0, 0],\n",
       "         [0, 2],\n",
       "         [0, 4]],\n",
       "\n",
       "        [[0, 0],\n",
       "         [0, 3],\n",
       "         [0, 6]]]])"
      ]
     },
     "execution_count": 58,
     "metadata": {},
     "output_type": "execute_result"
    }
   ],
   "source": [
    "#reshape the dimension of array\n",
    "d = np.fromfunction(lambda i,j,z:i*j*z ,(4,3,2), dtype=int) #3D to 4D\n",
    "d.reshape(2,2,3,2)"
   ]
  },
  {
   "cell_type": "code",
   "execution_count": 60,
   "id": "e4c9bea9",
   "metadata": {},
   "outputs": [
    {
     "data": {
      "text/plain": [
       "array([[0, 0, 0, 0, 0, 0],\n",
       "       [0, 0, 0, 1, 0, 2],\n",
       "       [0, 0, 0, 2, 0, 4],\n",
       "       [0, 0, 0, 3, 0, 6]])"
      ]
     },
     "execution_count": 60,
     "metadata": {},
     "output_type": "execute_result"
    }
   ],
   "source": [
    "#reshape the dimension of array\n",
    "d = np.fromfunction(lambda i,j,z:i*j*z ,(4,3,2), dtype=int) #3D to 4D\n",
    "d.reshape(4,-1) #here -1 automaticaly caluclulate the suitable number to get the elemnt(4,6)"
   ]
  },
  {
   "cell_type": "code",
   "execution_count": 61,
   "id": "9b26543d",
   "metadata": {},
   "outputs": [
    {
     "data": {
      "text/plain": [
       "array([[0, 0, 0, 0, 0, 0],\n",
       "       [0, 0, 0, 1, 0, 2],\n",
       "       [0, 0, 0, 2, 0, 4],\n",
       "       [0, 0, 0, 3, 0, 6]])"
      ]
     },
     "execution_count": 61,
     "metadata": {},
     "output_type": "execute_result"
    }
   ],
   "source": [
    "#reshape the dimension of array\n",
    "d = np.fromfunction(lambda i,j,z:i*j*z ,(4,3,2), dtype=int) #3D to 4D\n",
    "d.reshape(4,-134567) #any negative number here automaticaly caluclulate the suitable number to get the elemnt(4,6)notonly-1"
   ]
  },
  {
   "cell_type": "code",
   "execution_count": 63,
   "id": "faafaeb1",
   "metadata": {},
   "outputs": [
    {
     "data": {
      "text/plain": [
       "[4, 5, 6, 7, 8, 9]"
      ]
     },
     "execution_count": 63,
     "metadata": {},
     "output_type": "execute_result"
    }
   ],
   "source": [
    "list(range(4,10))"
   ]
  },
  {
   "cell_type": "code",
   "execution_count": 64,
   "id": "cf25d10f",
   "metadata": {},
   "outputs": [
    {
     "ename": "TypeError",
     "evalue": "'float' object cannot be interpreted as an integer",
     "output_type": "error",
     "traceback": [
      "\u001b[1;31m---------------------------------------------------------------------------\u001b[0m",
      "\u001b[1;31mTypeError\u001b[0m                                 Traceback (most recent call last)",
      "Cell \u001b[1;32mIn[64], line 1\u001b[0m\n\u001b[1;32m----> 1\u001b[0m \u001b[38;5;28mlist\u001b[39m(\u001b[38;5;28;43mrange\u001b[39;49m\u001b[43m(\u001b[49m\u001b[38;5;241;43m4\u001b[39;49m\u001b[43m,\u001b[49m\u001b[38;5;241;43m10\u001b[39;49m\u001b[43m,\u001b[49m\u001b[38;5;241;43m0.2\u001b[39;49m\u001b[43m)\u001b[49m)\n",
      "\u001b[1;31mTypeError\u001b[0m: 'float' object cannot be interpreted as an integer"
     ]
    }
   ],
   "source": [
    "list(range(4,10,0.2)) #range works only int not float"
   ]
  },
  {
   "cell_type": "code",
   "execution_count": 68,
   "id": "d0394654",
   "metadata": {},
   "outputs": [
    {
     "data": {
      "text/plain": [
       "array([ 4. ,  4.2,  4.4,  4.6,  4.8,  5. ,  5.2,  5.4,  5.6,  5.8,  6. ,\n",
       "        6.2,  6.4,  6.6,  6.8,  7. ,  7.2,  7.4,  7.6,  7.8,  8. ,  8.2,\n",
       "        8.4,  8.6,  8.8,  9. ,  9.2,  9.4,  9.6,  9.8, 10. , 10.2, 10.4,\n",
       "       10.6])"
      ]
     },
     "execution_count": 68,
     "metadata": {},
     "output_type": "execute_result"
    }
   ],
   "source": [
    "#same like range but it works in float also\n",
    "np.arange(4,10.7,0.2)"
   ]
  },
  {
   "cell_type": "code",
   "execution_count": 69,
   "id": "5f7df1b9",
   "metadata": {},
   "outputs": [
    {
     "data": {
      "text/plain": [
       "array([4.4, 4.6, 4.8, 5. , 5.2, 5.4, 5.6, 5.8])"
      ]
     },
     "execution_count": 69,
     "metadata": {},
     "output_type": "execute_result"
    }
   ],
   "source": [
    "a = np.arange(4,10.7,0.2)\n",
    "a[2:10]"
   ]
  },
  {
   "cell_type": "code",
   "execution_count": 71,
   "id": "95ac5230",
   "metadata": {},
   "outputs": [
    {
     "data": {
      "text/plain": [
       "array([[0.39244404, 0.2865547 , 0.48963868, 0.82357841],\n",
       "       [0.10898029, 0.53065975, 0.85614164, 0.00541956],\n",
       "       [0.23775303, 0.95787775, 0.25195957, 0.36516494],\n",
       "       [0.31222206, 0.06362165, 0.27242941, 0.46578101]])"
      ]
     },
     "execution_count": 71,
     "metadata": {},
     "output_type": "execute_result"
    }
   ],
   "source": [
    "#extract value greater than 0.5\n",
    "arr = np.random.rand(4,4)\n",
    "arr"
   ]
  },
  {
   "cell_type": "code",
   "execution_count": 74,
   "id": "7b6b8ca7",
   "metadata": {},
   "outputs": [
    {
     "data": {
      "text/plain": [
       "array([0.39244404, 0.2865547 , 0.48963868, 0.10898029, 0.00541956,\n",
       "       0.23775303, 0.25195957, 0.36516494, 0.31222206, 0.06362165,\n",
       "       0.27242941, 0.46578101])"
      ]
     },
     "execution_count": 74,
     "metadata": {},
     "output_type": "execute_result"
    }
   ],
   "source": [
    "arr[arr<0.5]   #same like pandas we can filter it"
   ]
  },
  {
   "cell_type": "code",
   "execution_count": 75,
   "id": "41620e86",
   "metadata": {},
   "outputs": [
    {
     "data": {
      "text/plain": [
       "array([[0.39244404, 0.2865547 , 0.48963868, 0.82357841],\n",
       "       [0.10898029, 0.53065975, 0.85614164, 0.00541956],\n",
       "       [0.23775303, 0.95787775, 0.25195957, 0.36516494],\n",
       "       [0.31222206, 0.06362165, 0.27242941, 0.46578101]])"
      ]
     },
     "execution_count": 75,
     "metadata": {},
     "output_type": "execute_result"
    }
   ],
   "source": [
    "#filtering specific data\n",
    "arr"
   ]
  },
  {
   "cell_type": "code",
   "execution_count": 76,
   "id": "b9eb4d1b",
   "metadata": {},
   "outputs": [
    {
     "data": {
      "text/plain": [
       "4"
      ]
     },
     "execution_count": 76,
     "metadata": {},
     "output_type": "execute_result"
    }
   ],
   "source": [
    "len(arr)"
   ]
  },
  {
   "cell_type": "code",
   "execution_count": 79,
   "id": "ed25e38a",
   "metadata": {},
   "outputs": [
    {
     "data": {
      "text/plain": [
       "array([0.85614164, 0.25195957])"
      ]
     },
     "execution_count": 79,
     "metadata": {},
     "output_type": "execute_result"
    }
   ],
   "source": [
    "arr[[1,2],[2]]    #[1,2] for row, [2]for columns"
   ]
  },
  {
   "cell_type": "code",
   "execution_count": 80,
   "id": "3f224ae0",
   "metadata": {},
   "outputs": [
    {
     "data": {
      "text/plain": [
       "array([[0.21028088, 0.57059672, 0.18100268, 0.37838241],\n",
       "       [0.02459825, 0.30690931, 0.1510157 , 0.32143501],\n",
       "       [0.82133074, 0.40984543, 0.51476407, 0.58846369],\n",
       "       [0.44954736, 0.03593264, 0.17022617, 0.37078466],\n",
       "       [0.11576518, 0.51397483, 0.43586387, 0.24065605],\n",
       "       [0.0611074 , 0.58712259, 0.08843287, 0.67055864],\n",
       "       [0.66056423, 0.80624093, 0.42182043, 0.03152249],\n",
       "       [0.97576126, 0.47843897, 0.15521601, 0.03932978]])"
      ]
     },
     "execution_count": 80,
     "metadata": {},
     "output_type": "execute_result"
    }
   ],
   "source": [
    "arr = np.random.rand(8,4)\n",
    "arr"
   ]
  },
  {
   "cell_type": "code",
   "execution_count": 83,
   "id": "1b82d1a6",
   "metadata": {},
   "outputs": [
    {
     "data": {
      "text/plain": [
       "array([[0.82133074, 0.40984543],\n",
       "       [0.44954736, 0.03593264],\n",
       "       [0.11576518, 0.51397483],\n",
       "       [0.0611074 , 0.58712259],\n",
       "       [0.66056423, 0.80624093]])"
      ]
     },
     "execution_count": 83,
     "metadata": {},
     "output_type": "execute_result"
    }
   ],
   "source": [
    "a2 = arr[2:7,0:2]  #row index and column index\n",
    "a2"
   ]
  },
  {
   "cell_type": "code",
   "execution_count": 85,
   "id": "04773f1a",
   "metadata": {},
   "outputs": [
    {
     "data": {
      "text/plain": [
       "array([[1.00000000e+02, 4.09845430e-01],\n",
       "       [4.49547362e-01, 3.59326356e-02],\n",
       "       [1.15765177e-01, 5.13974834e-01],\n",
       "       [6.11074046e-02, 5.87122587e-01],\n",
       "       [6.60564228e-01, 8.06240935e-01]])"
      ]
     },
     "execution_count": 85,
     "metadata": {},
     "output_type": "execute_result"
    }
   ],
   "source": [
    "a2[0][0] = 100  #overriting\n",
    "a2"
   ]
  },
  {
   "cell_type": "code",
   "execution_count": 89,
   "id": "bdd93ea8",
   "metadata": {},
   "outputs": [],
   "source": [
    "a =np.array([[3,4],[2,3]])\n",
    "b = np.array([[4,4],[2,3]])"
   ]
  },
  {
   "cell_type": "code",
   "execution_count": 90,
   "id": "dff8a04e",
   "metadata": {},
   "outputs": [
    {
     "data": {
      "text/plain": [
       "array([[20, 24],\n",
       "       [14, 17]])"
      ]
     },
     "execution_count": 90,
     "metadata": {},
     "output_type": "execute_result"
    }
   ],
   "source": [
    "a@b #matrix multiplication"
   ]
  },
  {
   "cell_type": "code",
   "execution_count": 91,
   "id": "4fc984cb",
   "metadata": {},
   "outputs": [
    {
     "data": {
      "text/plain": [
       "array([[12, 16],\n",
       "       [ 4,  9]])"
      ]
     },
     "execution_count": 91,
     "metadata": {},
     "output_type": "execute_result"
    }
   ],
   "source": [
    "a*b  #elemnent multiplication"
   ]
  },
  {
   "cell_type": "code",
   "execution_count": 92,
   "id": "07f95e97",
   "metadata": {},
   "outputs": [
    {
     "name": "stderr",
     "output_type": "stream",
     "text": [
      "C:\\Users\\Rengarajan\\AppData\\Local\\Temp\\ipykernel_6196\\3591685889.py:2: RuntimeWarning: divide by zero encountered in divide\n",
      "  m/0\n"
     ]
    },
    {
     "data": {
      "text/plain": [
       "array([[inf, inf],\n",
       "       [inf, inf]])"
      ]
     },
     "execution_count": 92,
     "metadata": {},
     "output_type": "execute_result"
    }
   ],
   "source": [
    "m = a@b\n",
    "m/0    #here won't give div by zero error, it gives infinity"
   ]
  },
  {
   "cell_type": "code",
   "execution_count": null,
   "id": "601b05e7",
   "metadata": {},
   "outputs": [],
   "source": []
  }
 ],
 "metadata": {
  "kernelspec": {
   "display_name": "Python 3 (ipykernel)",
   "language": "python",
   "name": "python3"
  },
  "language_info": {
   "codemirror_mode": {
    "name": "ipython",
    "version": 3
   },
   "file_extension": ".py",
   "mimetype": "text/x-python",
   "name": "python",
   "nbconvert_exporter": "python",
   "pygments_lexer": "ipython3",
   "version": "3.10.9"
  }
 },
 "nbformat": 4,
 "nbformat_minor": 5
}
